{
 "cells": [
  {
   "cell_type": "code",
   "execution_count": 4,
   "id": "36aaa151-3c90-4975-ab06-45f65481b596",
   "metadata": {},
   "outputs": [],
   "source": [
    "import cudf\n",
    "import cupy as cp\n",
    "import numpy as np\n",
    "import pandas as pd\n",
    "import matplotlib.pyplot as plt\n",
    "import seaborn as sns\n",
    "from cuml.preprocessing import LabelEncoder, StandardScaler\n",
    "from cuml.model_selection import train_test_split\n",
    "from cuml.ensemble import RandomForestClassifier\n",
    "from cuml.metrics import accuracy_score\n",
    "from sklearn.metrics import classification_report"
   ]
  },
  {
   "cell_type": "code",
   "execution_count": 1,
   "id": "4e0149ab-8a8e-4c15-960a-7c04fa35f9e5",
   "metadata": {},
   "outputs": [],
   "source": [
    "def load_and_clean_data(file_path):\n",
    "    df = cudf.read_csv(file_path)\n",
    "    columns_to_drop = ['VIN (1-10)', 'DOL Vehicle ID', '2020 Census Tract', 'Vehicle Location', 'Postal Code', 'State']\n",
    "    df = df.drop(columns = columns_to_drop)\n",
    "    df[['Longitude', 'Latitude']] = df['Vehicle Location'].str.extract(r'POINT \\(([-\\d.]+) ([-\\d.]+)\\)' ).astype(float)\n",
    "    return df"
   ]
  },
  {
   "cell_type": "code",
   "execution_count": 2,
   "id": "31ad9c37-4f82-4062-872e-861582c3719c",
   "metadata": {},
   "outputs": [],
   "source": [
    "def preprocess_data(df): \n",
    "    df['is_BEV'] = (df['Electric Vehicle Type'] == 'Battery Electric Vehicle (BEV)').astype(int)\n",
    "    categorical_columnns = ['County', 'City', 'Make', 'Model', 'Electric Utility']\n",
    "    label_encoders = {}\n",
    "    for col in categorical_columns:\n",
    "        le = LabelEncoder()\n",
    "        df[f'{col}_encoder'] = le.fit_transform(df[col])\n",
    "        label_encoders[col] = le\n",
    "    return df, label_encoders"
   ]
  },
  {
   "cell_type": "code",
   "execution_count": 3,
   "id": "41c1c800-0165-41a6-9653-43c57e0cf414",
   "metadata": {},
   "outputs": [],
   "source": [
    "def plot_cafv_distribution(df):\n",
    "    plt.figure(figsize = (12, 6))\n",
    "    eligibility_counts = df['Clean Alternative Fuel Vehicle (CAFV) Eligibility'].value_counts()\n",
    "    plt.bar(range(len(eligibility_counts)), eligibility_counts.values)\n",
    "    plt.xticks(range(len(eligibility_counts)), eligibility_counts.index, rotation = 45, ha = 'right')\n",
    "    plt.title('Distribution of CAFV Eligibility Status')\n",
    "    plt.tight_layout()\n",
    "    plt.show()"
   ]
  },
  {
   "cell_type": "code",
   "execution_count": null,
   "id": "3aecf83f-e54f-429e-906f-dba2c17efc9f",
   "metadata": {},
   "outputs": [],
   "source": []
  }
 ],
 "metadata": {
  "kernelspec": {
   "display_name": "Python 3 (ipykernel)",
   "language": "python",
   "name": "python3"
  },
  "language_info": {
   "codemirror_mode": {
    "name": "ipython",
    "version": 3
   },
   "file_extension": ".py",
   "mimetype": "text/x-python",
   "name": "python",
   "nbconvert_exporter": "python",
   "pygments_lexer": "ipython3",
   "version": "3.12.3"
  }
 },
 "nbformat": 4,
 "nbformat_minor": 5
}
